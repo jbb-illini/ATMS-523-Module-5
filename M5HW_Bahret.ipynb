{
 "cells": [
  {
   "cell_type": "markdown",
   "metadata": {
    "id": "NClI65qJR6tL"
   },
   "source": [
    "# ATMS 523\n",
    "\n",
    "## Module 5 Project\n",
    "\n",
    "For this assignment, use the dataset called `radar_parameters.csv` provided in the GitHub repository in the folder `homework`.\n",
    "\n",
    "## Dataset Description\n",
    "\n",
    "The training data consists of polarimetric radar parameters calculated from a disdrometer (an instrument that measures rain drop sizes, shapes, and rainfall rate) measurements from several years in Huntsville, Alabama. A model called `pytmatrix` is used to calculate polarimetric radar parameters from the droplet observations, which can be used as a way to compare what a remote sensing instrument would see and rainfall.\n",
    "\n",
    "## Data columns\n",
    "\n",
    "Features (radar measurements):\n",
    "\n",
    "`Zh` - radar reflectivity factor (dBZ) - use the formula $dBZ = 10\\log_{10}(Z)$\n",
    "\n",
    "`Zdr` - differential reflectivity\n",
    "\n",
    "`Ldr` - linear depolarization ratio\n",
    "\n",
    "`Kdp` - specific differential phase\n",
    "\n",
    "`Ah` - specific attenuation\n",
    "\n",
    "`Adp` - differential attenuation\n",
    "\n",
    "Target :\n",
    "\n",
    "`R` - rain rate"
   ]
  },
  {
   "cell_type": "markdown",
   "metadata": {
    "id": "ck3JWtq4SjI0"
   },
   "source": [
    "1. Split the data into a 70-30 split for training and testing data.\n"
   ]
  },
  {
   "cell_type": "code",
   "execution_count": 1,
   "metadata": {
    "colab": {
     "base_uri": "https://localhost:8080/"
    },
    "id": "byZYMbQ-nyfa",
    "outputId": "6b259b2d-a711-4478-c5a3-b33454af1cb0"
   },
   "outputs": [
    {
     "name": "stdout",
     "output_type": "stream",
     "text": [
      "Directory 'ATMS-523-Module-5' already exists. Skipping clone.\n"
     ]
    }
   ],
   "source": [
    "import os\n",
    "\n",
    "# Check if the directory exists before cloning\n",
    "# jupyter code below\n",
    "if not os.path.exists('/Users/joeybahret/Documents/Grad_School/ATMS_523/Module 5/ATMS-523-Module-5'):\n",
    "# uncomment for colab if not os.path.exists('ATMS-523-Module-5'):\n",
    "\n",
    "  !git clone https://github.com/jbb-illini/ATMS-523-Module-5.git\n",
    "else:\n",
    "  print(\"Directory 'ATMS-523-Module-5' already exists. Skipping clone.\")"
   ]
  },
  {
   "cell_type": "code",
   "execution_count": 2,
   "metadata": {
    "id": "BEHrOC3oS01j"
   },
   "outputs": [
    {
     "name": "stdout",
     "output_type": "stream",
     "text": [
      "Data loaded and seperated.\n"
     ]
    }
   ],
   "source": [
    "import pandas as pd\n",
    "from sklearn.model_selection import train_test_split\n",
    "\n",
    "file_name = 'radar_parameters.csv'\n",
    "colab_file_path = '/content/ATMS-523-Module-5/homework/'\n",
    "jupyter_file = '/Users/joeybahret/Documents/Grad_School/ATMS_523/Module 5/ATMS-523-Module-5/homework/'\n",
    "\n",
    "#data = pd.read_csv(colab_file_path+file_name, index_col=0)\n",
    "\n",
    "data = pd.read_csv(jupyter_file+file_name, index_col=0)\n",
    "\n",
    "X = data.drop('R (mm/hr)', axis=1)\n",
    "y = data['R (mm/hr)']\n",
    "\n",
    "X_train, X_test, y_train, y_test = train_test_split(X, y, test_size=0.3, random_state=42)\n",
    "\n",
    "print('Data loaded and seperated.')"
   ]
  },
  {
   "cell_type": "markdown",
   "metadata": {
    "id": "6ng5pSx8VyE_"
   },
   "source": [
    "2. Using the split created in (1), train a multiple linear regression dataset using the training dataset, and validate it using the testing dataset.  Compare the $R^2$ and root mean square errors of model on the training and testing sets to a baseline prediction of rain rate using the formula $Z = 200 R^{1.6}$."
   ]
  },
  {
   "cell_type": "code",
   "execution_count": 3,
   "metadata": {
    "colab": {
     "base_uri": "https://localhost:8080/"
    },
    "id": "Y3nr1ruWVzpI",
    "outputId": "d98bb3c1-8872-4aa4-ba93-0e7f7bcabf92"
   },
   "outputs": [
    {
     "name": "stdout",
     "output_type": "stream",
     "text": [
      "Linear Regression Model Performance:\n",
      "Training R^2: 0.9879\n",
      "Training RMSE: 0.9229\n",
      "Testing R^2: 0.9891\n",
      "Testing RMSE: 0.9358\n"
     ]
    }
   ],
   "source": [
    "from sklearn.linear_model import LinearRegression\n",
    "from sklearn.metrics import r2_score, mean_squared_error\n",
    "import numpy as np\n",
    "\n",
    "# Train the Linear Regression model\n",
    "model = LinearRegression()\n",
    "model.fit(X_train, y_train)\n",
    "\n",
    "# Make predictions\n",
    "y_train_pred_lr = model.predict(X_train)\n",
    "y_test_pred_lr = model.predict(X_test)\n",
    "\n",
    "# Evaluate Linear Regression model\n",
    "r2_train_lr = r2_score(y_train, y_train_pred_lr)\n",
    "rmse_train_lr = np.sqrt(mean_squared_error(y_train, y_train_pred_lr))\n",
    "\n",
    "r2_test_lr = r2_score(y_test, y_test_pred_lr)\n",
    "rmse_test_lr = np.sqrt(mean_squared_error(y_test, y_test_pred_lr))\n",
    "\n",
    "print(\"Linear Regression Model Performance:\")\n",
    "print(f\"Training R^2: {r2_train_lr:.4f}\")\n",
    "print(f\"Training RMSE: {rmse_train_lr:.4f}\")\n",
    "print(f\"Testing R^2: {r2_test_lr:.4f}\")\n",
    "print(f\"Testing RMSE: {rmse_test_lr:.4f}\")"
   ]
  },
  {
   "cell_type": "markdown",
   "metadata": {
    "id": "NDgdb0OzYzeW"
   },
   "source": [
    "3. Repeat 1 doing a grid search over polynomial orders, using a grid search over orders 0-9, and use cross-validation of 7 folds.  For the best polynomial model in terms of $R^2$, does it outperform the baseline and the linear regression model in terms of $R^2$ and root mean square error?"
   ]
  },
  {
   "cell_type": "code",
   "execution_count": 4,
   "metadata": {
    "id": "E-023cqMbnI7"
   },
   "outputs": [],
   "source": [
    "from sklearn.preprocessing import PolynomialFeatures\n",
    "from sklearn.linear_model import LinearRegression\n",
    "from sklearn.pipeline import Pipeline\n",
    "from sklearn.model_selection import GridSearchCV\n",
    "\n",
    "# Create Polynomial Features starting at the first degree\n",
    "polynomial_features = PolynomialFeatures(degree=1, include_bias=False)"
   ]
  },
  {
   "cell_type": "code",
   "execution_count": 5,
   "metadata": {
    "colab": {
     "base_uri": "https://localhost:8080/"
    },
    "id": "a0475c56",
    "outputId": "d8011930-218f-4256-c694-c3cecb715666"
   },
   "outputs": [
    {
     "name": "stdout",
     "output_type": "stream",
     "text": [
      "Parameter Grid: {'polynomialfeatures__degree': array([0, 1, 2, 3, 4, 5, 6, 7, 8, 9])}\n"
     ]
    }
   ],
   "source": [
    "# Define the parameter grid for the grid search\n",
    "param_grid = {'polynomialfeatures__degree': np.arange(0, 10)}\n",
    "\n",
    "print(\"Parameter Grid:\", param_grid)"
   ]
  },
  {
   "cell_type": "code",
   "execution_count": 6,
   "metadata": {
    "colab": {
     "base_uri": "https://localhost:8080/"
    },
    "id": "1ec01e5e",
    "outputId": "afd7a80e-b8ca-49f5-ced3-596f9326c479",
    "scrolled": true
   },
   "outputs": [
    {
     "name": "stdout",
     "output_type": "stream",
     "text": [
      "Grid set-up completed for multi-metric scoring with refit='r2'.\n",
      "Fitting 7 folds for each of 10 candidates, totalling 70 fits\n",
      "Grid Search completed.\n"
     ]
    }
   ],
   "source": [
    "from sklearn.pipeline import make_pipeline\n",
    "from sklearn.metrics import r2_score, mean_squared_error, make_scorer\n",
    "\n",
    "def PolynomialRegression(degree=2, **kwargs):\n",
    "    return make_pipeline(PolynomialFeatures(degree),\n",
    "                         LinearRegression(**kwargs))\n",
    "\n",
    "# Set up the GridSearchCV object\n",
    "# Use multiple scoring metrics and set refit to 'r2'\n",
    "grid_search = GridSearchCV(PolynomialRegression(),\n",
    "                           param_grid,\n",
    "                           cv=7,\n",
    "                           scoring={'r2': make_scorer(r2_score),\n",
    "                                    'neg_mean_squared_error': make_scorer(mean_squared_error, greater_is_better=False)},\n",
    "                           refit='r2',\n",
    "                           n_jobs= -1,\n",
    "                          verbose= 1)\n",
    "\n",
    "print(\"Grid set-up completed for multi-metric scoring with refit='r2'.\")\n",
    "\n",
    "# Fit the grid search to the training data\n",
    "grid_search.fit(X_train, y_train)\n",
    "\n",
    "print(\"Grid Search completed.\")"
   ]
  },
  {
   "cell_type": "code",
   "execution_count": 7,
   "metadata": {
    "colab": {
     "base_uri": "https://localhost:8080/",
     "height": 363
    },
    "id": "8a15af9d",
    "outputId": "727a0aa5-cfde-4478-9023-66558a0425aa"
   },
   "outputs": [
    {
     "data": {
      "text/html": [
       "<div>\n",
       "<style scoped>\n",
       "    .dataframe tbody tr th:only-of-type {\n",
       "        vertical-align: middle;\n",
       "    }\n",
       "\n",
       "    .dataframe tbody tr th {\n",
       "        vertical-align: top;\n",
       "    }\n",
       "\n",
       "    .dataframe thead th {\n",
       "        text-align: right;\n",
       "    }\n",
       "</style>\n",
       "<table border=\"1\" class=\"dataframe\">\n",
       "  <thead>\n",
       "    <tr style=\"text-align: right;\">\n",
       "      <th></th>\n",
       "      <th>Polynomial Degree</th>\n",
       "      <th>R^2</th>\n",
       "      <th>Rank</th>\n",
       "      <th>RMSE</th>\n",
       "    </tr>\n",
       "  </thead>\n",
       "  <tbody>\n",
       "    <tr>\n",
       "      <th>8</th>\n",
       "      <td>8</td>\n",
       "      <td>0.999942</td>\n",
       "      <td>1</td>\n",
       "      <td>0.004500</td>\n",
       "    </tr>\n",
       "    <tr>\n",
       "      <th>9</th>\n",
       "      <td>9</td>\n",
       "      <td>0.999900</td>\n",
       "      <td>2</td>\n",
       "      <td>0.009506</td>\n",
       "    </tr>\n",
       "    <tr>\n",
       "      <th>7</th>\n",
       "      <td>7</td>\n",
       "      <td>0.999300</td>\n",
       "      <td>3</td>\n",
       "      <td>0.056480</td>\n",
       "    </tr>\n",
       "    <tr>\n",
       "      <th>5</th>\n",
       "      <td>5</td>\n",
       "      <td>0.998869</td>\n",
       "      <td>4</td>\n",
       "      <td>0.090624</td>\n",
       "    </tr>\n",
       "    <tr>\n",
       "      <th>6</th>\n",
       "      <td>6</td>\n",
       "      <td>0.997642</td>\n",
       "      <td>5</td>\n",
       "      <td>0.187519</td>\n",
       "    </tr>\n",
       "    <tr>\n",
       "      <th>2</th>\n",
       "      <td>2</td>\n",
       "      <td>0.996999</td>\n",
       "      <td>6</td>\n",
       "      <td>0.233414</td>\n",
       "    </tr>\n",
       "    <tr>\n",
       "      <th>3</th>\n",
       "      <td>3</td>\n",
       "      <td>0.991524</td>\n",
       "      <td>7</td>\n",
       "      <td>0.674303</td>\n",
       "    </tr>\n",
       "    <tr>\n",
       "      <th>4</th>\n",
       "      <td>4</td>\n",
       "      <td>0.988007</td>\n",
       "      <td>8</td>\n",
       "      <td>0.958182</td>\n",
       "    </tr>\n",
       "    <tr>\n",
       "      <th>1</th>\n",
       "      <td>1</td>\n",
       "      <td>0.985456</td>\n",
       "      <td>9</td>\n",
       "      <td>1.027472</td>\n",
       "    </tr>\n",
       "    <tr>\n",
       "      <th>0</th>\n",
       "      <td>0</td>\n",
       "      <td>-0.000779</td>\n",
       "      <td>10</td>\n",
       "      <td>70.460662</td>\n",
       "    </tr>\n",
       "  </tbody>\n",
       "</table>\n",
       "</div>"
      ],
      "text/plain": [
       "   Polynomial Degree       R^2  Rank       RMSE\n",
       "8                  8  0.999942     1   0.004500\n",
       "9                  9  0.999900     2   0.009506\n",
       "7                  7  0.999300     3   0.056480\n",
       "5                  5  0.998869     4   0.090624\n",
       "6                  6  0.997642     5   0.187519\n",
       "2                  2  0.996999     6   0.233414\n",
       "3                  3  0.991524     7   0.674303\n",
       "4                  4  0.988007     8   0.958182\n",
       "1                  1  0.985456     9   1.027472\n",
       "0                  0 -0.000779    10  70.460662"
      ]
     },
     "metadata": {},
     "output_type": "display_data"
    }
   ],
   "source": [
    "# Get the results of the grid search\n",
    "results = grid_search.cv_results_\n",
    "\n",
    "# Create a DataFrame to display the results\n",
    "grid_search_results_df = pd.DataFrame({\n",
    "    'Polynomial Degree': results['param_polynomialfeatures__degree'],\n",
    "    'R^2': results['mean_test_r2'],\n",
    "    'Rank': results['rank_test_r2'],\n",
    "    'RMSE' : results['mean_test_neg_mean_squared_error'] * -1\n",
    "})\n",
    "\n",
    "# Sort by rank\n",
    "grid_search_results_df = grid_search_results_df.sort_values(by='Rank')\n",
    "\n",
    "display(grid_search_results_df)"
   ]
  },
  {
   "cell_type": "markdown",
   "metadata": {
    "id": "j41t7SKhCW9l"
   },
   "source": [
    "4. Repeat 1 with a Random Forest Regressor, and perform a grid_search on the following parameters:\n",
    "   \n",
    "   ```python\n",
    "   {'bootstrap': [True, False],  \n",
    "   'max_depth': [10, 20, 30, 40, 50, 60, 70, 80, 90, 100, None],  \n",
    "   'max_features': ['auto', 'sqrt'],  \n",
    "   'min_samples_leaf': [1, 2, 4],  \n",
    "   'min_samples_split': [2, 5, 10],  \n",
    "   'n_estimators': [200, 400, 600, 800, 1000, 1200, 1400, 1600, 1800, 2000]}\n",
    "   ```"
   ]
  },
  {
   "cell_type": "markdown",
   "metadata": {
    "id": "tu3LPngqS0EA"
   },
   "source": [
    "Can you beat the baseline, or the linear regression, or best polynomial model with the best optimized Random Forest Regressor in terms of $R^2$ and root mean square error?"
   ]
  },
  {
   "cell_type": "code",
   "execution_count": 8,
   "metadata": {
    "id": "90e7c204"
   },
   "outputs": [],
   "source": [
    "from sklearn.ensemble import RandomForestRegressor"
   ]
  },
  {
   "cell_type": "code",
   "execution_count": 9,
   "metadata": {
    "colab": {
     "base_uri": "https://localhost:8080/"
    },
    "id": "a8e97e61",
    "outputId": "8f1448a6-917d-416e-d7d9-41853fdc17e1"
   },
   "outputs": [
    {
     "name": "stdout",
     "output_type": "stream",
     "text": [
      "Random Forest Parameter Grid:\n",
      "{'bootstrap': [True, False], 'max_depth': [10, 20, 30, 40, 50, 60, 70, 80, 90, 100, None], 'max_features': ['sqrt', 'log2'], 'min_samples_leaf': [1, 2, 4], 'min_samples_split': [2, 5, 10], 'n_estimators': [200, 400, 600, 800, 1000, 1200, 1400, 1600, 1800, 2000]}\n"
     ]
    }
   ],
   "source": [
    "param_grid_rf = {'bootstrap': [True, False],\n",
    "                 'max_depth': [10, 20, 30, 40, 50, 60, 70, 80, 90, 100, None],\n",
    "                 'max_features': ['sqrt', 'log2'],\n",
    "                 'min_samples_leaf': [1, 2, 4],\n",
    "                 'min_samples_split': [2, 5, 10],\n",
    "                 'n_estimators': [200, 400, 600, 800, 1000, 1200, 1400, 1600, 1800, 2000]}\n",
    "\n",
    "print(\"Random Forest Parameter Grid:\")\n",
    "print(param_grid_rf)"
   ]
  },
  {
   "cell_type": "code",
   "execution_count": 18,
   "metadata": {
    "colab": {
     "base_uri": "https://localhost:8080/"
    },
    "id": "00708d85",
    "outputId": "ee062953-fd28-420a-db9a-77a964ed7e92"
   },
   "outputs": [
    {
     "name": "stdout",
     "output_type": "stream",
     "text": [
      "GridSearchCV setup complete for Random Forest Regressor.\n"
     ]
    }
   ],
   "source": [
    "# Instantiate a RandomForestRegressor object\n",
    "rf_model = RandomForestRegressor(random_state=42)\n",
    "\n",
    "# Instantiate a GridSearchCV object\n",
    "grid_search_rf = GridSearchCV(rf_model,\n",
    "                              param_grid_rf,\n",
    "                              cv=7,\n",
    "                              scoring={'r2': make_scorer(r2_score),\n",
    "                                       'neg_mean_squared_error': make_scorer(mean_squared_error, greater_is_better=False)},\n",
    "                              refit='r2',\n",
    "                              n_jobs=1,\n",
    "                             verbose = 2)\n",
    "\n",
    "print(\"GridSearchCV setup complete for Random Forest Regressor.\")"
   ]
  },
  {
   "cell_type": "code",
   "execution_count": null,
   "metadata": {
    "colab": {
     "base_uri": "https://localhost:8080/",
     "height": 316
    },
    "id": "c3d0dfb7",
    "outputId": "c9a300b9-8394-4671-b728-0435e264a317",
    "scrolled": true
   },
   "outputs": [
    {
     "name": "stdout",
     "output_type": "stream",
     "text": [
      "Fitting 7 folds for each of 3960 candidates, totalling 27720 fits\n",
      "[CV] END bootstrap=True, max_depth=10, max_features=sqrt, min_samples_leaf=1, min_samples_split=2, n_estimators=200; total time=   2.4s\n",
      "[CV] END bootstrap=True, max_depth=10, max_features=sqrt, min_samples_leaf=1, min_samples_split=2, n_estimators=200; total time=   2.4s\n",
      "[CV] END bootstrap=True, max_depth=10, max_features=sqrt, min_samples_leaf=1, min_samples_split=2, n_estimators=200; total time=   2.4s\n",
      "[CV] END bootstrap=True, max_depth=10, max_features=sqrt, min_samples_leaf=1, min_samples_split=2, n_estimators=200; total time=   2.4s\n",
      "[CV] END bootstrap=True, max_depth=10, max_features=sqrt, min_samples_leaf=1, min_samples_split=2, n_estimators=200; total time=   2.4s\n",
      "[CV] END bootstrap=True, max_depth=10, max_features=sqrt, min_samples_leaf=1, min_samples_split=2, n_estimators=200; total time=   2.4s\n",
      "[CV] END bootstrap=True, max_depth=10, max_features=sqrt, min_samples_leaf=1, min_samples_split=2, n_estimators=200; total time=   2.4s\n",
      "[CV] END bootstrap=True, max_depth=10, max_features=sqrt, min_samples_leaf=1, min_samples_split=2, n_estimators=400; total time=   4.9s\n",
      "[CV] END bootstrap=True, max_depth=10, max_features=sqrt, min_samples_leaf=1, min_samples_split=2, n_estimators=400; total time=   5.0s\n",
      "[CV] END bootstrap=True, max_depth=10, max_features=sqrt, min_samples_leaf=1, min_samples_split=2, n_estimators=400; total time=   4.7s\n",
      "[CV] END bootstrap=True, max_depth=10, max_features=sqrt, min_samples_leaf=1, min_samples_split=2, n_estimators=400; total time=   5.0s\n",
      "[CV] END bootstrap=True, max_depth=10, max_features=sqrt, min_samples_leaf=1, min_samples_split=2, n_estimators=400; total time=   5.0s\n",
      "[CV] END bootstrap=True, max_depth=10, max_features=sqrt, min_samples_leaf=1, min_samples_split=2, n_estimators=400; total time=   4.8s\n",
      "[CV] END bootstrap=True, max_depth=10, max_features=sqrt, min_samples_leaf=1, min_samples_split=2, n_estimators=400; total time=   4.8s\n",
      "[CV] END bootstrap=True, max_depth=10, max_features=sqrt, min_samples_leaf=1, min_samples_split=2, n_estimators=600; total time=   7.2s\n",
      "[CV] END bootstrap=True, max_depth=10, max_features=sqrt, min_samples_leaf=1, min_samples_split=2, n_estimators=600; total time=   7.2s\n",
      "[CV] END bootstrap=True, max_depth=10, max_features=sqrt, min_samples_leaf=1, min_samples_split=2, n_estimators=600; total time=   7.1s\n",
      "[CV] END bootstrap=True, max_depth=10, max_features=sqrt, min_samples_leaf=1, min_samples_split=2, n_estimators=600; total time=   7.2s\n",
      "[CV] END bootstrap=True, max_depth=10, max_features=sqrt, min_samples_leaf=1, min_samples_split=2, n_estimators=600; total time=   7.1s\n",
      "[CV] END bootstrap=True, max_depth=10, max_features=sqrt, min_samples_leaf=1, min_samples_split=2, n_estimators=600; total time=   7.1s\n",
      "[CV] END bootstrap=True, max_depth=10, max_features=sqrt, min_samples_leaf=1, min_samples_split=2, n_estimators=600; total time=   7.4s\n",
      "[CV] END bootstrap=True, max_depth=10, max_features=sqrt, min_samples_leaf=1, min_samples_split=2, n_estimators=800; total time=   9.6s\n",
      "[CV] END bootstrap=True, max_depth=10, max_features=sqrt, min_samples_leaf=1, min_samples_split=2, n_estimators=800; total time=   9.5s\n",
      "[CV] END bootstrap=True, max_depth=10, max_features=sqrt, min_samples_leaf=1, min_samples_split=2, n_estimators=800; total time=   9.5s\n",
      "[CV] END bootstrap=True, max_depth=10, max_features=sqrt, min_samples_leaf=1, min_samples_split=2, n_estimators=800; total time=   9.5s\n",
      "[CV] END bootstrap=True, max_depth=10, max_features=sqrt, min_samples_leaf=1, min_samples_split=2, n_estimators=800; total time=   9.5s\n",
      "[CV] END bootstrap=True, max_depth=10, max_features=sqrt, min_samples_leaf=1, min_samples_split=2, n_estimators=800; total time=   9.6s\n",
      "[CV] END bootstrap=True, max_depth=10, max_features=sqrt, min_samples_leaf=1, min_samples_split=2, n_estimators=800; total time=   9.8s\n"
     ]
    }
   ],
   "source": [
    "grid_search_rf.fit(X_train, y_train)\n",
    "\n",
    "print(\"Random Forest Grid Search completed.\")"
   ]
  }
 ],
 "metadata": {
  "accelerator": "GPU",
  "colab": {
   "gpuType": "T4",
   "provenance": []
  },
  "kernelspec": {
   "display_name": "Python (base)",
   "language": "python",
   "name": "base"
  },
  "language_info": {
   "codemirror_mode": {
    "name": "ipython",
    "version": 3
   },
   "file_extension": ".py",
   "mimetype": "text/x-python",
   "name": "python",
   "nbconvert_exporter": "python",
   "pygments_lexer": "ipython3",
   "version": "3.13.5"
  }
 },
 "nbformat": 4,
 "nbformat_minor": 4
}
