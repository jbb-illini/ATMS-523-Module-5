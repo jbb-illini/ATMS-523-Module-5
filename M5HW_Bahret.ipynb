{
 "cells": [
  {
   "cell_type": "markdown",
   "metadata": {
    "id": "NClI65qJR6tL"
   },
   "source": [
    "# ATMS 523\n",
    "\n",
    "## Module 5 Project\n",
    "\n",
    "For this assignment, use the dataset called `radar_parameters.csv` provided in the GitHub repository in the folder `homework`.\n",
    "\n",
    "## Dataset Description\n",
    "\n",
    "The training data consists of polarimetric radar parameters calculated from a disdrometer (an instrument that measures rain drop sizes, shapes, and rainfall rate) measurements from several years in Huntsville, Alabama. A model called `pytmatrix` is used to calculate polarimetric radar parameters from the droplet observations, which can be used as a way to compare what a remote sensing instrument would see and rainfall.\n",
    "\n",
    "## Data columns\n",
    "\n",
    "Features (radar measurements):\n",
    "\n",
    "`Zh` - radar reflectivity factor (dBZ) - use the formula $dBZ = 10\\log_{10}(Z)$\n",
    "\n",
    "`Zdr` - differential reflectivity\n",
    "\n",
    "`Ldr` - linear depolarization ratio\n",
    "\n",
    "`Kdp` - specific differential phase\n",
    "\n",
    "`Ah` - specific attenuation\n",
    "\n",
    "`Adp` - differential attenuation\n",
    "\n",
    "Target :\n",
    "\n",
    "`R` - rain rate"
   ]
  },
  {
   "cell_type": "markdown",
   "metadata": {
    "id": "ck3JWtq4SjI0"
   },
   "source": [
    "1. Split the data into a 70-30 split for training and testing data.\n"
   ]
  },
  {
   "cell_type": "code",
   "execution_count": 1,
   "metadata": {
    "colab": {
     "base_uri": "https://localhost:8080/"
    },
    "id": "byZYMbQ-nyfa",
    "outputId": "6b259b2d-a711-4478-c5a3-b33454af1cb0"
   },
   "outputs": [
    {
     "name": "stdout",
     "output_type": "stream",
     "text": [
      "Directory 'ATMS-523-Module-5' already exists. Skipping clone.\n"
     ]
    }
   ],
   "source": [
    "import os\n",
    "\n",
    "# Check if the directory exists before cloning\n",
    "# jupyter code below\n",
    "mac_path = '/Users/joeybahret/Documents/Grad_School/ATMS_523/Module 5/ATMS-523-Module-5'\n",
    "if not os.path.exists(mac_path):\n",
    "# uncomment for colab if not os.path.exists('ATMS-523-Module-5'):\n",
    "\n",
    "  !git clone https://github.com/jbb-illini/ATMS-523-Module-5.git\n",
    "else:\n",
    "  print(\"Directory 'ATMS-523-Module-5' already exists. Skipping clone.\")"
   ]
  },
  {
   "cell_type": "code",
   "execution_count": 2,
   "metadata": {
    "id": "BEHrOC3oS01j"
   },
   "outputs": [
    {
     "name": "stdout",
     "output_type": "stream",
     "text": [
      "Data loaded and seperated.\n"
     ]
    },
    {
     "data": {
      "text/plain": [
       "((13278, 6), (5691, 6), (13278,), (5691,))"
      ]
     },
     "execution_count": 2,
     "metadata": {},
     "output_type": "execute_result"
    }
   ],
   "source": [
    "import pandas as pd\n",
    "from sklearn.model_selection import train_test_split\n",
    "\n",
    "file_name = 'radar_parameters.csv'\n",
    "colab_file_path = '/content/ATMS-523-Module-5/homework/'\n",
    "jupyter_file = '/Users/joeybahret/Documents/Grad_School/ATMS_523/Module 5/ATMS-523-Module-5/homework/'\n",
    "\n",
    "#data = pd.read_csv(colab_file_path+file_name, index_col=0)\n",
    "\n",
    "data = pd.read_csv(jupyter_file+file_name, index_col=0)\n",
    "X = data.drop('R (mm/hr)', axis=1)\n",
    "y = data['R (mm/hr)']\n",
    "\n",
    "X_train, X_test, y_train, y_test = train_test_split(X, y, test_size=0.3, random_state=0)\n",
    "\n",
    "print('Data loaded and seperated.')\n",
    "X_train.shape, X_test.shape, y_train.shape, y_test.shape"
   ]
  },
  {
   "cell_type": "markdown",
   "metadata": {
    "id": "6ng5pSx8VyE_"
   },
   "source": [
    "2. Using the split created in (1), train a multiple linear regression dataset using the training dataset, and validate it using the testing dataset.  Compare the $R^2$ and root mean square errors of model on the training and testing sets to a baseline prediction of rain rate using the formula $Z = 200 R^{1.6}$."
   ]
  },
  {
   "cell_type": "code",
   "execution_count": 58,
   "metadata": {
    "colab": {
     "base_uri": "https://localhost:8080/"
    },
    "id": "Y3nr1ruWVzpI",
    "outputId": "d98bb3c1-8872-4aa4-ba93-0e7f7bcabf92"
   },
   "outputs": [
    {
     "name": "stdout",
     "output_type": "stream",
     "text": [
      "Linear Regression Model Performance:\n",
      "Training R^2: 0.9888\n",
      "Training RMSE: 0.9148\n",
      "Testing R^2: 0.9869\n",
      "Testing RMSE: 0.9584\n",
      "--------------------------------------------------\n",
      "Baseline Model R^2 (Test Data): 0.2266\n",
      "Baseline Model RMSE (Test Data): 7.3524\n"
     ]
    }
   ],
   "source": [
    "from sklearn.linear_model import LinearRegression\n",
    "from sklearn.metrics import r2_score, mean_squared_error\n",
    "import numpy as np\n",
    "\n",
    "# Train the Linear Regression model\n",
    "model = LinearRegression()\n",
    "model.fit(X_train, y_train)\n",
    "\n",
    "# Make predictions\n",
    "y_train_pred_lr = model.predict(X_train)\n",
    "y_test_pred_lr = model.predict(X_test)\n",
    "\n",
    "# Evaluate Linear Regression model\n",
    "r2_train_lr = r2_score(y_train, y_train_pred_lr)\n",
    "rmse_train_lr = np.sqrt(mean_squared_error(y_train, y_train_pred_lr))\n",
    "\n",
    "r2_test_lr = r2_score(y_test, y_test_pred_lr)\n",
    "rmse_test_lr = np.sqrt(mean_squared_error(y_test, y_test_pred_lr))\n",
    "\n",
    "print(\"Linear Regression Model Performance:\")\n",
    "print(f\"Training R^2: {r2_train_lr:.4f}\")\n",
    "print(f\"Training RMSE: {rmse_train_lr:.4f}\")\n",
    "print(f\"Testing R^2: {r2_test_lr:.4f}\")\n",
    "print(f\"Testing RMSE: {rmse_test_lr:.4f}\")\n",
    "print('-'*50)\n",
    "##### Creating Baseline\n",
    "\n",
    "# Get Zh (dBZ) from the test features\n",
    "Zh_dBZ_test = X_test['Zh (dBZ)']\n",
    "\n",
    "# Convert Zh (dBZ) to Z (linear units)\n",
    "Z_linear_test = 10**(Zh_dBZ_test / 10)\n",
    "\n",
    "# Calculate baseline rain rate (R_baseline) on the test set\n",
    "R_baseline_test = (Z_linear_test / 200)**(1 / 1.6)\n",
    "\n",
    "# Evaluate the Baseline Model using the true test values (y_test)\n",
    "r2_baseline_test = r2_score(y_test, R_baseline_test)\n",
    "rmse_baseline_test = np.sqrt(mean_squared_error(y_test, R_baseline_test))\n",
    "print(f\"Baseline Model R^2 (Test Data): {r2_baseline_test:.4f}\")\n",
    "print(f\"Baseline Model RMSE (Test Data): {rmse_baseline_test:.4f}\")\n"
   ]
  },
  {
   "cell_type": "markdown",
   "metadata": {},
   "source": [
    "### Based on the residuals plot above for the Z values compared to the residuals from the linear regression below, it appears that the linear regression models do no accurately capture the data's complexities. It's likely that the polynomial regression will be a better fit."
   ]
  },
  {
   "cell_type": "code",
   "execution_count": 59,
   "metadata": {},
   "outputs": [
    {
     "data": {
      "image/png": "[encoded data removed]",
      "text/plain": [
       "<Figure size 800x400 with 1 Axes>"
      ]
     },
     "metadata": {},
     "output_type": "display_data"
    },
    {
     "name": "stdout",
     "output_type": "stream",
     "text": [
      "\n",
      "\n"
     ]
    },
    {
     "data": {
      "image/png": "[encoded data removed]",
      "text/plain": [
       "<Figure size 800x400 with 1 Axes>"
      ]
     },
     "metadata": {},
     "output_type": "display_data"
    },
    {
     "name": "stdout",
     "output_type": "stream",
     "text": [
      "\n",
      "Standard deviation of y: 8.5692 mm/hr\n",
      "Standard deviation of y_test: 8.3612 mm/hr\n",
      "Standard deviation of y_test_pred_lr: 8.2697 mm/hr\n"
     ]
    }
   ],
   "source": [
    "import numpy as np\n",
    "\n",
    "\n",
    "plt.figure(figsize=(8, 4))\n",
    "plt.scatter(y_test, y_test_pred_lr, alpha=0.5, label='Linear Regression Prediction')\n",
    "\n",
    "# 45 degree ideal line\n",
    "max_val = max(y_test.max(), y_test_pred_lr.max())\n",
    "plt.plot([0, max_val], [0, max_val], 'k--', lw=2, label='Ideal Prediction')\n",
    "plt.xlabel(\"Actual Rain Rate (mm/hr)\")\n",
    "plt.ylabel(\"Predicted/Calculated Rain Rate (mm/hr)\")\n",
    "plt.title(\"Model Comparison: Actual vs. Predicted/Calculated Rain Rate\")\n",
    "plt.grid(True)\n",
    "plt.legend()\n",
    "plt.show()\n",
    "# Calculate residuals\n",
    "residuals = y_test - y_test_pred_lr\n",
    "print('\\n')\n",
    "# Plot the distribution of residuals\n",
    "plt.figure(figsize=(8, 4))\n",
    "plt.hist(residuals, bins=50, density=True, alpha=0.7)\n",
    "plt.xlabel(\"Residuals (Actual - Predicted)\")\n",
    "plt.ylabel(\"Density\")\n",
    "plt.title(\"Distribution of Residuals for Linear Regression\")\n",
    "plt.grid(True)\n",
    "plt.show()\n",
    "\n",
    "std_dev_y = np.std(y)\n",
    "std_dev_y_test = np.std(y_test, ddof=1)\n",
    "std_dev_y_test_pred_lr = np.std(y_test_pred_lr, ddof=1)\n",
    "\n",
    "print(f\"\\nStandard deviation of y: {std_dev_y:.4f} mm/hr\")\n",
    "print(f\"Standard deviation of y_test: {std_dev_y_test:.4f} mm/hr\")\n",
    "print(f\"Standard deviation of y_test_pred_lr: {std_dev_y_test_pred_lr:.4f} mm/hr\")\n"
   ]
  },
  {
   "cell_type": "markdown",
   "metadata": {
    "id": "NDgdb0OzYzeW"
   },
   "source": [
    "3. Repeat 1 doing a grid search over polynomial orders, using a grid search over orders 0-9, and use cross-validation of 7 folds.  For the best polynomial model in terms of $R^2$, does it outperform the baseline and the linear regression model in terms of $R^2$ and root mean square error?"
   ]
  },
  {
   "cell_type": "code",
   "execution_count": 5,
   "metadata": {
    "id": "E-023cqMbnI7"
   },
   "outputs": [
    {
     "name": "stdout",
     "output_type": "stream",
     "text": [
      "Parameter Grid: {'polynomialfeatures__degree': array([0, 1, 2, 3, 4, 5, 6, 7, 8, 9])}\n"
     ]
    }
   ],
   "source": [
    "from sklearn.preprocessing import PolynomialFeatures\n",
    "from sklearn.pipeline import Pipeline\n",
    "from sklearn.model_selection import GridSearchCV\n",
    "\n",
    "# Define the parameter grid for the grid search\n",
    "param_grid = {'polynomialfeatures__degree': np.arange(10),\n",
    "              #'linearregression__fit_intercept': [True, False]\n",
    "             }\n",
    "\n",
    "print(\"Parameter Grid:\", param_grid)"
   ]
  },
  {
   "cell_type": "code",
   "execution_count": 7,
   "metadata": {
    "colab": {
     "base_uri": "https://localhost:8080/"
    },
    "id": "1ec01e5e",
    "outputId": "afd7a80e-b8ca-49f5-ced3-596f9326c479"
   },
   "outputs": [
    {
     "name": "stdout",
     "output_type": "stream",
     "text": [
      "Grid set-up completed. Starting GridSearch.\n",
      "Grid Search completed.\n",
      "Total time of 371.6944272518158 seconds is: 6:11.69\n"
     ]
    }
   ],
   "source": [
    "from sklearn.pipeline import make_pipeline\n",
    "from sklearn.metrics import r2_score, mean_squared_error, make_scorer\n",
    "import time\n",
    "import math\n",
    "\n",
    "def PolynomialRegression(degree=2, **kwargs):\n",
    "    return make_pipeline(PolynomialFeatures(degree),\n",
    "                         LinearRegression(**kwargs))\n",
    "\n",
    "# Set up the GridSearchCV object\n",
    "# Use multiple scoring metrics and set refit to 'r2'\n",
    "grid_search = GridSearchCV(PolynomialRegression(),\n",
    "                           param_grid,\n",
    "                           cv=7,\n",
    "                           scoring={'r2': make_scorer(r2_score),\n",
    "                                    'neg_mean_squared_error': make_scorer(mean_squared_error, greater_is_better=False)},\n",
    "                           refit= 'r2',\n",
    "                           n_jobs=1\n",
    ")\n",
    "\n",
    "print(\"Grid set-up completed. Starting GridSearch.\")\n",
    "\n",
    "start_time = time.time() # Record the start time\n",
    "# Fit the grid search to the training data\n",
    "grid_search.fit(X_train, y_train)\n",
    "\n",
    "end_time = time.time() # Record the end time\n",
    "total_time = end_time - start_time\n",
    "\n",
    "print(\"Grid Search completed.\")\n",
    "\n",
    "def convert_seconds_to_min_sec(total_seconds):\n",
    "    \"\"\"\n",
    "    Converts a float representing total seconds into a M:SS.ss format string.\n",
    "    \"\"\"\n",
    "    if total_seconds < 0:\n",
    "        return \"0:00.00\"\n",
    "\n",
    "    # 1. Calculate whole minutes\n",
    "    minutes = math.floor(total_seconds / 60)\n",
    "    \n",
    "    # 2. Calculate remaining seconds (with the decimal portion)\n",
    "    seconds = total_seconds % 60\n",
    "    \n",
    "    # 3. Format the result as M:SS.ss (pad seconds with a leading zero if needed)\n",
    "    # The '.2f' formats the seconds to two decimal places\n",
    "    return f\"{minutes:0.0f}:{seconds:05.2f}\"\n",
    "\n",
    "# Example Usage:\n",
    "formatted_time = convert_seconds_to_min_sec(total_time)\n",
    "\n",
    "print(f\"Total time of {total_time} seconds is: {formatted_time}\")"
   ]
  },
  {
   "cell_type": "code",
   "execution_count": 21,
   "metadata": {
    "colab": {
     "base_uri": "https://localhost:8080/",
     "height": 363
    },
    "id": "8a15af9d",
    "outputId": "727a0aa5-cfde-4478-9023-66558a0425aa"
   },
   "outputs": [
    {
     "data": {
      "text/html": [
       "<div>\n",
       "<style scoped>\n",
       "    .dataframe tbody tr th:only-of-type {\n",
       "        vertical-align: middle;\n",
       "    }\n",
       "\n",
       "    .dataframe tbody tr th {\n",
       "        vertical-align: top;\n",
       "    }\n",
       "\n",
       "    .dataframe thead th {\n",
       "        text-align: right;\n",
       "    }\n",
       "</style>\n",
       "<table border=\"1\" class=\"dataframe\">\n",
       "  <thead>\n",
       "    <tr style=\"text-align: right;\">\n",
       "      <th></th>\n",
       "      <th>Rank</th>\n",
       "      <th>Poly Deg</th>\n",
       "      <th>R^2</th>\n",
       "      <th>RMSE</th>\n",
       "    </tr>\n",
       "  </thead>\n",
       "  <tbody>\n",
       "    <tr>\n",
       "      <th>8</th>\n",
       "      <td>1</td>\n",
       "      <td>8</td>\n",
       "      <td>0.999973</td>\n",
       "      <td>0.002760</td>\n",
       "    </tr>\n",
       "    <tr>\n",
       "      <th>7</th>\n",
       "      <td>2</td>\n",
       "      <td>7</td>\n",
       "      <td>0.999936</td>\n",
       "      <td>0.005467</td>\n",
       "    </tr>\n",
       "    <tr>\n",
       "      <th>4</th>\n",
       "      <td>3</td>\n",
       "      <td>4</td>\n",
       "      <td>0.999926</td>\n",
       "      <td>0.006628</td>\n",
       "    </tr>\n",
       "    <tr>\n",
       "      <th>9</th>\n",
       "      <td>4</td>\n",
       "      <td>9</td>\n",
       "      <td>0.999851</td>\n",
       "      <td>0.012571</td>\n",
       "    </tr>\n",
       "    <tr>\n",
       "      <th>6</th>\n",
       "      <td>5</td>\n",
       "      <td>6</td>\n",
       "      <td>0.999761</td>\n",
       "      <td>0.019091</td>\n",
       "    </tr>\n",
       "    <tr>\n",
       "      <th>2</th>\n",
       "      <td>6</td>\n",
       "      <td>2</td>\n",
       "      <td>0.999465</td>\n",
       "      <td>0.040494</td>\n",
       "    </tr>\n",
       "    <tr>\n",
       "      <th>5</th>\n",
       "      <td>7</td>\n",
       "      <td>5</td>\n",
       "      <td>0.999319</td>\n",
       "      <td>0.056925</td>\n",
       "    </tr>\n",
       "    <tr>\n",
       "      <th>3</th>\n",
       "      <td>8</td>\n",
       "      <td>3</td>\n",
       "      <td>0.999202</td>\n",
       "      <td>0.063145</td>\n",
       "    </tr>\n",
       "    <tr>\n",
       "      <th>1</th>\n",
       "      <td>9</td>\n",
       "      <td>1</td>\n",
       "      <td>0.987312</td>\n",
       "      <td>0.905613</td>\n",
       "    </tr>\n",
       "    <tr>\n",
       "      <th>0</th>\n",
       "      <td>10</td>\n",
       "      <td>0</td>\n",
       "      <td>-0.001366</td>\n",
       "      <td>74.961463</td>\n",
       "    </tr>\n",
       "  </tbody>\n",
       "</table>\n",
       "</div>"
      ],
      "text/plain": [
       "   Rank  Poly Deg       R^2       RMSE\n",
       "8     1         8  0.999973   0.002760\n",
       "7     2         7  0.999936   0.005467\n",
       "4     3         4  0.999926   0.006628\n",
       "9     4         9  0.999851   0.012571\n",
       "6     5         6  0.999761   0.019091\n",
       "2     6         2  0.999465   0.040494\n",
       "5     7         5  0.999319   0.056925\n",
       "3     8         3  0.999202   0.063145\n",
       "1     9         1  0.987312   0.905613\n",
       "0    10         0 -0.001366  74.961463"
      ]
     },
     "metadata": {},
     "output_type": "display_data"
    }
   ],
   "source": [
    "# Get the results of the grid search\n",
    "results = grid_search.cv_results_\n",
    "\n",
    "# Create a DataFrame to display the results\n",
    "grid_search_results_df = pd.DataFrame({\n",
    "    'Rank': results['rank_test_r2'],\n",
    "    'Poly Deg': results['param_polynomialfeatures__degree'],\n",
    "    'R^2': results['mean_test_r2'],\n",
    "    'RMSE' : results['mean_test_neg_mean_squared_error'] * -1\n",
    "})\n",
    "\n",
    "# Sort by rank\n",
    "grid_search_results_df = grid_search_results_df.sort_values(by='Rank')\n",
    "\n",
    "display(grid_search_results_df)"
   ]
  },
  {
   "cell_type": "code",
   "execution_count": null,
   "metadata": {},
   "outputs": [],
   "source": []
  },
  {
   "cell_type": "code",
   "execution_count": 22,
   "metadata": {},
   "outputs": [],
   "source": [
    "grid_search_results_df.to_csv('gridsearch_results.csv', index = False)"
   ]
  },
  {
   "cell_type": "code",
   "execution_count": null,
   "metadata": {},
   "outputs": [],
   "source": []
  },
  {
   "cell_type": "code",
   "execution_count": null,
   "metadata": {},
   "outputs": [],
   "source": []
  },
  {
   "cell_type": "markdown",
   "metadata": {
    "id": "j41t7SKhCW9l"
   },
   "source": [
    "4. Repeat 1 with a Random Forest Regressor, and perform a grid_search on the following parameters:\n",
    "   \n",
    "   ```python\n",
    "     {\n",
    "     \"bootstrap\": [True, False],\n",
    "     \"max_depth\": [10, 100],\n",
    "     \"max_features\": [\"sqrt\", 1.0],  \n",
    "     \"min_samples_leaf\": [1, 4],\n",
    "     \"min_samples_split\": [2, 10],\n",
    "     \"n_estimators\": [200, 1000]\n",
    "     }\n",
    "   ```"
   ]
  },
  {
   "cell_type": "markdown",
   "metadata": {
    "id": "tu3LPngqS0EA"
   },
   "source": [
    "Can you beat the baseline, or the linear regression, or best polynomial model with the best optimized Random Forest Regressor in terms of $R^2$ and root mean square error?"
   ]
  },
  {
   "cell_type": "code",
   "execution_count": 10,
   "metadata": {
    "id": "90e7c204"
   },
   "outputs": [],
   "source": [
    "from sklearn.ensemble import RandomForestRegressor"
   ]
  },
  {
   "cell_type": "code",
   "execution_count": 11,
   "metadata": {
    "colab": {
     "base_uri": "https://localhost:8080/"
    },
    "id": "a8e97e61",
    "outputId": "8f1448a6-917d-416e-d7d9-41853fdc17e1"
   },
   "outputs": [
    {
     "name": "stdout",
     "output_type": "stream",
     "text": [
      "Random Forest Parameter Grid:\n",
      "{'bootstrap': [True, False], 'max_depth': [10, 100], 'max_features': ['sqrt', 1.0], 'min_samples_leaf': [1, 4], 'min_samples_split': [2, 10], 'n_estimators': [200, 1000]}\n"
     ]
    }
   ],
   "source": [
    "param_grid_rf = {\n",
    " \"bootstrap\": [True, False],\n",
    " \"max_depth\": [10, 100],\n",
    " \"max_features\": [\"sqrt\", 1.0],  \n",
    " \"min_samples_leaf\": [1, 4],\n",
    " \"min_samples_split\": [2, 10],\n",
    " \"n_estimators\": [200, 1000]}\n",
    "\n",
    "print(\"Random Forest Parameter Grid:\")\n",
    "print(param_grid_rf)"
   ]
  },
  {
   "cell_type": "code",
   "execution_count": 14,
   "metadata": {
    "colab": {
     "base_uri": "https://localhost:8080/"
    },
    "id": "00708d85",
    "outputId": "ee062953-fd28-420a-db9a-77a964ed7e92"
   },
   "outputs": [
    {
     "name": "stdout",
     "output_type": "stream",
     "text": [
      "RandomizedSearchCV setup complete for Random Forest Regressor.\n"
     ]
    }
   ],
   "source": [
    "from sklearn.model_selection import RandomizedSearchCV\n",
    "\n",
    "# Initiate a RandomForestRegressor object\n",
    "rf_model = RandomForestRegressor(random_state=42)\n",
    "\n",
    "# Instantiate a GridSearchCV object\n",
    "grid_search_rf = GridSearchCV(rf_model,\n",
    "                              param_grid_rf,\n",
    "                              cv=7,\n",
    "                              scoring={'r2': make_scorer(r2_score), 'neg_mean_squared_error': make_scorer(mean_squared_error, greater_is_better=False)},\n",
    "                              refit='r2',\n",
    "                              n_jobs=1,\n",
    "                              verbose = 1\n",
    "                            )\n",
    "\n",
    "print(\"RandomizedSearchCV setup complete for Random Forest Regressor.\")"
   ]
  },
  {
   "cell_type": "code",
   "execution_count": 15,
   "metadata": {
    "colab": {
     "base_uri": "https://localhost:8080/",
     "height": 316
    },
    "id": "c3d0dfb7",
    "outputId": "c9a300b9-8394-4671-b728-0435e264a317",
    "scrolled": true
   },
   "outputs": [
    {
     "name": "stdout",
     "output_type": "stream",
     "text": [
      "Fitting 7 folds for each of 64 candidates, totalling 448 fits\n",
      "Random Forest Grid Search completed.\n"
     ]
    }
   ],
   "source": [
    "grid_search_rf.fit(X_train, y_train)\n",
    "\n",
    "print(\"Random Forest Grid Search completed.\")"
   ]
  },
  {
   "cell_type": "code",
   "execution_count": 28,
   "metadata": {},
   "outputs": [
    {
     "data": {
      "text/plain": [
       "dict_keys(['mean_fit_time', 'std_fit_time', 'mean_score_time', 'std_score_time', 'param_polynomialfeatures__degree', 'params', 'split0_test_r2', 'split1_test_r2', 'split2_test_r2', 'split3_test_r2', 'split4_test_r2', 'split5_test_r2', 'split6_test_r2', 'mean_test_r2', 'std_test_r2', 'rank_test_r2', 'split0_test_neg_mean_squared_error', 'split1_test_neg_mean_squared_error', 'split2_test_neg_mean_squared_error', 'split3_test_neg_mean_squared_error', 'split4_test_neg_mean_squared_error', 'split5_test_neg_mean_squared_error', 'split6_test_neg_mean_squared_error', 'mean_test_neg_mean_squared_error', 'std_test_neg_mean_squared_error', 'rank_test_neg_mean_squared_error'])"
      ]
     },
     "execution_count": 28,
     "metadata": {},
     "output_type": "execute_result"
    }
   ],
   "source": [
    "# Get the results of the grid search\n",
    "results_rf = grid_search_rf.cv_results_\n",
    "results.keys()"
   ]
  },
  {
   "cell_type": "code",
   "execution_count": 37,
   "metadata": {},
   "outputs": [
    {
     "data": {
      "text/html": [
       "<div>\n",
       "<style scoped>\n",
       "    .dataframe tbody tr th:only-of-type {\n",
       "        vertical-align: middle;\n",
       "    }\n",
       "\n",
       "    .dataframe tbody tr th {\n",
       "        vertical-align: top;\n",
       "    }\n",
       "\n",
       "    .dataframe thead th {\n",
       "        text-align: right;\n",
       "    }\n",
       "</style>\n",
       "<table border=\"1\" class=\"dataframe\">\n",
       "  <thead>\n",
       "    <tr style=\"text-align: right;\">\n",
       "      <th></th>\n",
       "      <th>Params</th>\n",
       "      <th>Rank</th>\n",
       "      <th>R^2</th>\n",
       "      <th>RMSE</th>\n",
       "    </tr>\n",
       "  </thead>\n",
       "  <tbody>\n",
       "    <tr>\n",
       "      <th>24</th>\n",
       "      <td>{'bootstrap': True, 'max_depth': 100, 'max_fea...</td>\n",
       "      <td>1</td>\n",
       "      <td>0.977601</td>\n",
       "      <td>1.845212</td>\n",
       "    </tr>\n",
       "    <tr>\n",
       "      <th>25</th>\n",
       "      <td>{'bootstrap': True, 'max_depth': 100, 'max_fea...</td>\n",
       "      <td>2</td>\n",
       "      <td>0.977152</td>\n",
       "      <td>1.888463</td>\n",
       "    </tr>\n",
       "    <tr>\n",
       "      <th>49</th>\n",
       "      <td>{'bootstrap': False, 'max_depth': 100, 'max_fe...</td>\n",
       "      <td>3</td>\n",
       "      <td>0.976784</td>\n",
       "      <td>1.893643</td>\n",
       "    </tr>\n",
       "    <tr>\n",
       "      <th>8</th>\n",
       "      <td>{'bootstrap': True, 'max_depth': 10, 'max_feat...</td>\n",
       "      <td>4</td>\n",
       "      <td>0.976754</td>\n",
       "      <td>1.904150</td>\n",
       "    </tr>\n",
       "    <tr>\n",
       "      <th>48</th>\n",
       "      <td>{'bootstrap': False, 'max_depth': 100, 'max_fe...</td>\n",
       "      <td>5</td>\n",
       "      <td>0.976502</td>\n",
       "      <td>1.908281</td>\n",
       "    </tr>\n",
       "    <tr>\n",
       "      <th>...</th>\n",
       "      <td>...</td>\n",
       "      <td>...</td>\n",
       "      <td>...</td>\n",
       "      <td>...</td>\n",
       "    </tr>\n",
       "    <tr>\n",
       "      <th>44</th>\n",
       "      <td>{'bootstrap': False, 'max_depth': 10, 'max_fea...</td>\n",
       "      <td>60</td>\n",
       "      <td>0.965599</td>\n",
       "      <td>2.706666</td>\n",
       "    </tr>\n",
       "    <tr>\n",
       "      <th>46</th>\n",
       "      <td>{'bootstrap': False, 'max_depth': 10, 'max_fea...</td>\n",
       "      <td>61</td>\n",
       "      <td>0.964674</td>\n",
       "      <td>2.765923</td>\n",
       "    </tr>\n",
       "    <tr>\n",
       "      <th>47</th>\n",
       "      <td>{'bootstrap': False, 'max_depth': 10, 'max_fea...</td>\n",
       "      <td>62</td>\n",
       "      <td>0.964655</td>\n",
       "      <td>2.768155</td>\n",
       "    </tr>\n",
       "    <tr>\n",
       "      <th>43</th>\n",
       "      <td>{'bootstrap': False, 'max_depth': 10, 'max_fea...</td>\n",
       "      <td>63</td>\n",
       "      <td>0.964289</td>\n",
       "      <td>2.815555</td>\n",
       "    </tr>\n",
       "    <tr>\n",
       "      <th>42</th>\n",
       "      <td>{'bootstrap': False, 'max_depth': 10, 'max_fea...</td>\n",
       "      <td>64</td>\n",
       "      <td>0.964135</td>\n",
       "      <td>2.830262</td>\n",
       "    </tr>\n",
       "  </tbody>\n",
       "</table>\n",
       "<p>64 rows × 4 columns</p>\n",
       "</div>"
      ],
      "text/plain": [
       "                                               Params  Rank       R^2  \\\n",
       "24  {'bootstrap': True, 'max_depth': 100, 'max_fea...     1  0.977601   \n",
       "25  {'bootstrap': True, 'max_depth': 100, 'max_fea...     2  0.977152   \n",
       "49  {'bootstrap': False, 'max_depth': 100, 'max_fe...     3  0.976784   \n",
       "8   {'bootstrap': True, 'max_depth': 10, 'max_feat...     4  0.976754   \n",
       "48  {'bootstrap': False, 'max_depth': 100, 'max_fe...     5  0.976502   \n",
       "..                                                ...   ...       ...   \n",
       "44  {'bootstrap': False, 'max_depth': 10, 'max_fea...    60  0.965599   \n",
       "46  {'bootstrap': False, 'max_depth': 10, 'max_fea...    61  0.964674   \n",
       "47  {'bootstrap': False, 'max_depth': 10, 'max_fea...    62  0.964655   \n",
       "43  {'bootstrap': False, 'max_depth': 10, 'max_fea...    63  0.964289   \n",
       "42  {'bootstrap': False, 'max_depth': 10, 'max_fea...    64  0.964135   \n",
       "\n",
       "        RMSE  \n",
       "24  1.845212  \n",
       "25  1.888463  \n",
       "49  1.893643  \n",
       "8   1.904150  \n",
       "48  1.908281  \n",
       "..       ...  \n",
       "44  2.706666  \n",
       "46  2.765923  \n",
       "47  2.768155  \n",
       "43  2.815555  \n",
       "42  2.830262  \n",
       "\n",
       "[64 rows x 4 columns]"
      ]
     },
     "metadata": {},
     "output_type": "display_data"
    }
   ],
   "source": [
    "# Create a DataFrame to display the results\n",
    "rf_search_results_df = pd.DataFrame({\n",
    "    #'Polynomial Degree': results['param_polynomialfeatures__degree'],\n",
    "    'Params': results_rf['params'],\n",
    "\n",
    "    'Rank': results_rf['rank_test_r2'],\n",
    "    'R^2': results_rf['mean_test_r2'],\n",
    "    'RMSE' : results_rf['mean_test_neg_mean_squared_error'] * -1\n",
    "})\n",
    "\n",
    "# Sort by rank\n",
    "rf_search_results_df = rf_search_results_df.sort_values(by='Rank')\n",
    "\n",
    "display(rf_search_results_df)"
   ]
  },
  {
   "cell_type": "code",
   "execution_count": 38,
   "metadata": {},
   "outputs": [],
   "source": [
    "rf_search_results_df.to_csv(\"random_forest_search_results.csv\", index=False)"
   ]
  },
  {
   "cell_type": "code",
   "execution_count": 35,
   "metadata": {},
   "outputs": [
    {
     "data": {
      "text/plain": [
       "{'bootstrap': True,\n",
       " 'max_depth': 100,\n",
       " 'max_features': 1.0,\n",
       " 'min_samples_leaf': 1,\n",
       " 'min_samples_split': 2,\n",
       " 'n_estimators': 200}"
      ]
     },
     "execution_count": 35,
     "metadata": {},
     "output_type": "execute_result"
    }
   ],
   "source": [
    "grid_search_rf.best_params_\n",
    "best_rf_params = {'bootstrap': True,\n",
    " 'max_depth': 100,\n",
    " 'max_features': 1.0,\n",
    " 'min_samples_leaf': 1,\n",
    " 'min_samples_split': 2,\n",
    " 'n_estimators': 200}"
   ]
  },
  {
   "cell_type": "code",
   "execution_count": 40,
   "metadata": {},
   "outputs": [
    {
     "name": "stdout",
     "output_type": "stream",
     "text": [
      "The complete RandomizedSearchCV object has been saved to 'random_forest_search_results.pkl'\n"
     ]
    }
   ],
   "source": [
    "import pickle\n",
    "import joblib # Often preferred over pickle for large scikit-learn objects\n",
    "\n",
    "# --- Assuming 'grid_search_rf' is your fitted RandomizedSearchCV object ---\n",
    "file_name = \"random_forest_search_results.pkl\"\n",
    "\n",
    "# Using joblib is often recommended for scikit-learn objects for efficiency\n",
    "# joblib.dump(grid_search_rf, file_name)\n",
    "\n",
    "# Or, using pickle:\n",
    "with open(file_name, 'wb') as f:\n",
    "    pickle.dump(grid_search_rf, f)\n",
    "    \n",
    "print(f\"The complete RandomizedSearchCV object has been saved to '{file_name}'\")"
   ]
  },
  {
   "cell_type": "code",
   "execution_count": 41,
   "metadata": {},
   "outputs": [
    {
     "name": "stdout",
     "output_type": "stream",
     "text": [
      "The complete RandomizedSearchCV object has been saved to 'ploy_search_results.pkl'\n"
     ]
    }
   ],
   "source": [
    "import pickle\n",
    "import joblib # Often preferred over pickle for large scikit-learn objects\n",
    "\n",
    "# --- Assuming 'grid_search_rf' is your fitted RandomizedSearchCV object ---\n",
    "file_name = \"poly_search_results.pkl\"\n",
    "\n",
    "# Using joblib is often recommended for scikit-learn objects for efficiency\n",
    "# joblib.dump(grid_search_rf, file_name)\n",
    "\n",
    "# Or, using pickle:\n",
    "with open(file_name, 'wb') as f:\n",
    "    pickle.dump(grid_search, f)\n",
    "    \n",
    "print(f\"The complete RandomizedSearchCV object has been saved to '{file_name}'\")\n"
   ]
  },
  {
   "cell_type": "code",
   "execution_count": 57,
   "metadata": {},
   "outputs": [
    {
     "name": "stdout",
     "output_type": "stream",
     "text": [
      "Baseline Model R^2 (Test Data): 0.2266\n",
      "Baseline Model RMSE (Test Data): 7.3524\n",
      "--------------------------------------------------\n",
      "Training R^2: 0.9888\n",
      "Training RMSE: 0.9148\n",
      "Testing R^2: 0.9869\n",
      "Testing RMSE: 0.9584\n",
      "--------------------------------------------------\n",
      "Best GridSearchCV Model R^2 (Test Data): 0.9999\n",
      "Best GridSearchCV Model RMSE (Test Data): 0.0697\n",
      "--------------------------------------------------\n",
      "Best Optimized Random Forest Test R^2: 0.9523\n",
      "Best Optimized Random Forest Test RMSE: 1.8268\n"
     ]
    }
   ],
   "source": [
    "\n",
    "print(f\"Baseline Model R^2 (Test Data): {r2_baseline_test:.4f}\")\n",
    "print(f\"Baseline Model RMSE (Test Data): {rmse_baseline_test:.4f}\")\n",
    "print('-'*50)\n",
    "\n",
    "### Linear regression R^2 & RMSE\n",
    "print(f\"Training R^2: {r2_train_lr:.4f}\")\n",
    "print(f\"Training RMSE: {rmse_train_lr:.4f}\")\n",
    "print(f\"Testing R^2: {r2_test_lr:.4f}\")\n",
    "print(f\"Testing RMSE: {rmse_test_lr:.4f}\")\n",
    "print('-'*50)\n",
    "\n",
    "### Running best polynomial model\n",
    "best_rf_model = grid_search.best_estimator_\n",
    "y_test_pred_rf = best_rf_model.predict(X_test)\n",
    "\n",
    "rf_r2 = r2_score(y_test, y_test_pred_rf)\n",
    "rf_rmse = np.sqrt(mean_squared_error(y_test, y_test_pred_rf))\n",
    "\n",
    "\n",
    "print(f\"Best GridSearchCV Model R^2 (Test Data): {rf_r2:.4f}\")\n",
    "print(f\"Best GridSearchCV Model RMSE (Test Data): {rf_rmse:.4f}\")\n",
    "print('-'*50)\n",
    "\n",
    "\n",
    "best_rf_model = grid_search_rf.best_estimator_\n",
    "\n",
    "# Make predictions on the independent test data\n",
    "y_test_pred_rf = best_rf_model.predict(X_test)\n",
    "\n",
    "# Calculate R^2 and RMSE\n",
    "rf_r2 = r2_score(y_test, y_test_pred_rf)\n",
    "rf_rmse = np.sqrt(mean_squared_error(y_test, y_test_pred_rf))\n",
    "\n",
    "print(f\"Best Optimized Random Forest Test R^2: {rf_r2:.4f}\")\n",
    "print(f\"Best Optimized Random Forest Test RMSE: {rf_rmse:.4f}\")"
   ]
  },
  {
   "cell_type": "markdown",
   "metadata": {},
   "source": [
    "## In this case, my polynomial model from my gridsearchCV is the best choice for this dataset since it provided a near perfect fit to the test data. The Random Forest model's hyperparameter search wasn't able to find a combination that could beat the performance of the simpler linear or polynomial approaches. This might suggest the underlying relationship between the radar parameters and rain rate is  polynomial in nature, and the complexity of the Random Forest introduced unnecessary variance in terms of underfitting/overfitting that degraded its performance."
   ]
  },
  {
   "cell_type": "code",
   "execution_count": 4,
   "metadata": {},
   "outputs": [
    {
     "data": {
      "text/html": [
       "<style>#sk-container-id-1 {\n",
       "  /* Definition of color scheme common for light and dark mode */\n",
       "  --sklearn-color-text: #000;\n",
       "  --sklearn-color-text-muted: #666;\n",
       "  --sklearn-color-line: gray;\n",
       "  /* Definition of color scheme for unfitted estimators */\n",
       "  --sklearn-color-unfitted-level-0: #fff5e6;\n",
       "  --sklearn-color-unfitted-level-1: #f6e4d2;\n",
       "  --sklearn-color-unfitted-level-2: #ffe0b3;\n",
       "  --sklearn-color-unfitted-level-3: chocolate;\n",
       "  /* Definition of color scheme for fitted estimators */\n",
       "  --sklearn-color-fitted-level-0: #f0f8ff;\n",
       "  --sklearn-color-fitted-level-1: #d4ebff;\n",
       "  --sklearn-color-fitted-level-2: #b3dbfd;\n",
       "  --sklearn-color-fitted-level-3: cornflowerblue;\n",
       "\n",
       "  /* Specific color for light theme */\n",
       "  --sklearn-color-text-on-default-background: var(--sg-text-color, var(--theme-code-foreground, var(--jp-content-font-color1, black)));\n",
       "  --sklearn-color-background: var(--sg-background-color, var(--theme-background, var(--jp-layout-color0, white)));\n",
       "  --sklearn-color-border-box: var(--sg-text-color, var(--theme-code-foreground, var(--jp-content-font-color1, black)));\n",
       "  --sklearn-color-icon: #696969;\n",
       "\n",
       "  @media (prefers-color-scheme: dark) {\n",
       "    /* Redefinition of color scheme for dark theme */\n",
       "    --sklearn-color-text-on-default-background: var(--sg-text-color, var(--theme-code-foreground, var(--jp-content-font-color1, white)));\n",
       "    --sklearn-color-background: var(--sg-background-color, var(--theme-background, var(--jp-layout-color0, #111)));\n",
       "    --sklearn-color-border-box: var(--sg-text-color, var(--theme-code-foreground, var(--jp-content-font-color1, white)));\n",
       "    --sklearn-color-icon: #878787;\n",
       "  }\n",
       "}\n",
       "\n",
       "#sk-container-id-1 {\n",
       "  color: var(--sklearn-color-text);\n",
       "}\n",
       "\n",
       "#sk-container-id-1 pre {\n",
       "  padding: 0;\n",
       "}\n",
       "\n",
       "#sk-container-id-1 input.sk-hidden--visually {\n",
       "  border: 0;\n",
       "  clip: rect(1px 1px 1px 1px);\n",
       "  clip: rect(1px, 1px, 1px, 1px);\n",
       "  height: 1px;\n",
       "  margin: -1px;\n",
       "  overflow: hidden;\n",
       "  padding: 0;\n",
       "  position: absolute;\n",
       "  width: 1px;\n",
       "}\n",
       "\n",
       "#sk-container-id-1 div.sk-dashed-wrapped {\n",
       "  border: 1px dashed var(--sklearn-color-line);\n",
       "  margin: 0 0.4em 0.5em 0.4em;\n",
       "  box-sizing: border-box;\n",
       "  padding-bottom: 0.4em;\n",
       "  background-color: var(--sklearn-color-background);\n",
       "}\n",
       "\n",
       "#sk-container-id-1 div.sk-container {\n",
       "  /* jupyter's `normalize.less` sets `[hidden] { display: none; }`\n",
       "     but bootstrap.min.css set `[hidden] { display: none !important; }`\n",
       "     so we also need the `!important` here to be able to override the\n",
       "     default hidden behavior on the sphinx rendered scikit-learn.org.\n",
       "     See: https://github.com/scikit-learn/scikit-learn/issues/21755 */\n",
       "  display: inline-block !important;\n",
       "  position: relative;\n",
       "}\n",
       "\n",
       "#sk-container-id-1 div.sk-text-repr-fallback {\n",
       "  display: none;\n",
       "}\n",
       "\n",
       "div.sk-parallel-item,\n",
       "div.sk-serial,\n",
       "div.sk-item {\n",
       "  /* draw centered vertical line to link estimators */\n",
       "  background-image: linear-gradient(var(--sklearn-color-text-on-default-background), var(--sklearn-color-text-on-default-background));\n",
       "  background-size: 2px 100%;\n",
       "  background-repeat: no-repeat;\n",
       "  background-position: center center;\n",
       "}\n",
       "\n",
       "/* Parallel-specific style estimator block */\n",
       "\n",
       "#sk-container-id-1 div.sk-parallel-item::after {\n",
       "  content: \"\";\n",
       "  width: 100%;\n",
       "  border-bottom: 2px solid var(--sklearn-color-text-on-default-background);\n",
       "  flex-grow: 1;\n",
       "}\n",
       "\n",
       "#sk-container-id-1 div.sk-parallel {\n",
       "  display: flex;\n",
       "  align-items: stretch;\n",
       "  justify-content: center;\n",
       "  background-color: var(--sklearn-color-background);\n",
       "  position: relative;\n",
       "}\n",
       "\n",
       "#sk-container-id-1 div.sk-parallel-item {\n",
       "  display: flex;\n",
       "  flex-direction: column;\n",
       "}\n",
       "\n",
       "#sk-container-id-1 div.sk-parallel-item:first-child::after {\n",
       "  align-self: flex-end;\n",
       "  width: 50%;\n",
       "}\n",
       "\n",
       "#sk-container-id-1 div.sk-parallel-item:last-child::after {\n",
       "  align-self: flex-start;\n",
       "  width: 50%;\n",
       "}\n",
       "\n",
       "#sk-container-id-1 div.sk-parallel-item:only-child::after {\n",
       "  width: 0;\n",
       "}\n",
       "\n",
       "/* Serial-specific style estimator block */\n",
       "\n",
       "#sk-container-id-1 div.sk-serial {\n",
       "  display: flex;\n",
       "  flex-direction: column;\n",
       "  align-items: center;\n",
       "  background-color: var(--sklearn-color-background);\n",
       "  padding-right: 1em;\n",
       "  padding-left: 1em;\n",
       "}\n",
       "\n",
       "\n",
       "/* Toggleable style: style used for estimator/Pipeline/ColumnTransformer box that is\n",
       "clickable and can be expanded/collapsed.\n",
       "- Pipeline and ColumnTransformer use this feature and define the default style\n",
       "- Estimators will overwrite some part of the style using the `sk-estimator` class\n",
       "*/\n",
       "\n",
       "/* Pipeline and ColumnTransformer style (default) */\n",
       "\n",
       "#sk-container-id-1 div.sk-toggleable {\n",
       "  /* Default theme specific background. It is overwritten whether we have a\n",
       "  specific estimator or a Pipeline/ColumnTransformer */\n",
       "  background-color: var(--sklearn-color-background);\n",
       "}\n",
       "\n",
       "/* Toggleable label */\n",
       "#sk-container-id-1 label.sk-toggleable__label {\n",
       "  cursor: pointer;\n",
       "  display: flex;\n",
       "  width: 100%;\n",
       "  margin-bottom: 0;\n",
       "  padding: 0.5em;\n",
       "  box-sizing: border-box;\n",
       "  text-align: center;\n",
       "  align-items: start;\n",
       "  justify-content: space-between;\n",
       "  gap: 0.5em;\n",
       "}\n",
       "\n",
       "#sk-container-id-1 label.sk-toggleable__label .caption {\n",
       "  font-size: 0.6rem;\n",
       "  font-weight: lighter;\n",
       "  color: var(--sklearn-color-text-muted);\n",
       "}\n",
       "\n",
       "#sk-container-id-1 label.sk-toggleable__label-arrow:before {\n",
       "  /* Arrow on the left of the label */\n",
       "  content: \"▸\";\n",
       "  float: left;\n",
       "  margin-right: 0.25em;\n",
       "  color: var(--sklearn-color-icon);\n",
       "}\n",
       "\n",
       "#sk-container-id-1 label.sk-toggleable__label-arrow:hover:before {\n",
       "  color: var(--sklearn-color-text);\n",
       "}\n",
       "\n",
       "/* Toggleable content - dropdown */\n",
       "\n",
       "#sk-container-id-1 div.sk-toggleable__content {\n",
       "  max-height: 0;\n",
       "  max-width: 0;\n",
       "  overflow: hidden;\n",
       "  text-align: left;\n",
       "  /* unfitted */\n",
       "  background-color: var(--sklearn-color-unfitted-level-0);\n",
       "}\n",
       "\n",
       "#sk-container-id-1 div.sk-toggleable__content.fitted {\n",
       "  /* fitted */\n",
       "  background-color: var(--sklearn-color-fitted-level-0);\n",
       "}\n",
       "\n",
       "#sk-container-id-1 div.sk-toggleable__content pre {\n",
       "  margin: 0.2em;\n",
       "  border-radius: 0.25em;\n",
       "  color: var(--sklearn-color-text);\n",
       "  /* unfitted */\n",
       "  background-color: var(--sklearn-color-unfitted-level-0);\n",
       "}\n",
       "\n",
       "#sk-container-id-1 div.sk-toggleable__content.fitted pre {\n",
       "  /* unfitted */\n",
       "  background-color: var(--sklearn-color-fitted-level-0);\n",
       "}\n",
       "\n",
       "#sk-container-id-1 input.sk-toggleable__control:checked~div.sk-toggleable__content {\n",
       "  /* Expand drop-down */\n",
       "  max-height: 200px;\n",
       "  max-width: 100%;\n",
       "  overflow: auto;\n",
       "}\n",
       "\n",
       "#sk-container-id-1 input.sk-toggleable__control:checked~label.sk-toggleable__label-arrow:before {\n",
       "  content: \"▾\";\n",
       "}\n",
       "\n",
       "/* Pipeline/ColumnTransformer-specific style */\n",
       "\n",
       "#sk-container-id-1 div.sk-label input.sk-toggleable__control:checked~label.sk-toggleable__label {\n",
       "  color: var(--sklearn-color-text);\n",
       "  background-color: var(--sklearn-color-unfitted-level-2);\n",
       "}\n",
       "\n",
       "#sk-container-id-1 div.sk-label.fitted input.sk-toggleable__control:checked~label.sk-toggleable__label {\n",
       "  background-color: var(--sklearn-color-fitted-level-2);\n",
       "}\n",
       "\n",
       "/* Estimator-specific style */\n",
       "\n",
       "/* Colorize estimator box */\n",
       "#sk-container-id-1 div.sk-estimator input.sk-toggleable__control:checked~label.sk-toggleable__label {\n",
       "  /* unfitted */\n",
       "  background-color: var(--sklearn-color-unfitted-level-2);\n",
       "}\n",
       "\n",
       "#sk-container-id-1 div.sk-estimator.fitted input.sk-toggleable__control:checked~label.sk-toggleable__label {\n",
       "  /* fitted */\n",
       "  background-color: var(--sklearn-color-fitted-level-2);\n",
       "}\n",
       "\n",
       "#sk-container-id-1 div.sk-label label.sk-toggleable__label,\n",
       "#sk-container-id-1 div.sk-label label {\n",
       "  /* The background is the default theme color */\n",
       "  color: var(--sklearn-color-text-on-default-background);\n",
       "}\n",
       "\n",
       "/* On hover, darken the color of the background */\n",
       "#sk-container-id-1 div.sk-label:hover label.sk-toggleable__label {\n",
       "  color: var(--sklearn-color-text);\n",
       "  background-color: var(--sklearn-color-unfitted-level-2);\n",
       "}\n",
       "\n",
       "/* Label box, darken color on hover, fitted */\n",
       "#sk-container-id-1 div.sk-label.fitted:hover label.sk-toggleable__label.fitted {\n",
       "  color: var(--sklearn-color-text);\n",
       "  background-color: var(--sklearn-color-fitted-level-2);\n",
       "}\n",
       "\n",
       "/* Estimator label */\n",
       "\n",
       "#sk-container-id-1 div.sk-label label {\n",
       "  font-family: monospace;\n",
       "  font-weight: bold;\n",
       "  display: inline-block;\n",
       "  line-height: 1.2em;\n",
       "}\n",
       "\n",
       "#sk-container-id-1 div.sk-label-container {\n",
       "  text-align: center;\n",
       "}\n",
       "\n",
       "/* Estimator-specific */\n",
       "#sk-container-id-1 div.sk-estimator {\n",
       "  font-family: monospace;\n",
       "  border: 1px dotted var(--sklearn-color-border-box);\n",
       "  border-radius: 0.25em;\n",
       "  box-sizing: border-box;\n",
       "  margin-bottom: 0.5em;\n",
       "  /* unfitted */\n",
       "  background-color: var(--sklearn-color-unfitted-level-0);\n",
       "}\n",
       "\n",
       "#sk-container-id-1 div.sk-estimator.fitted {\n",
       "  /* fitted */\n",
       "  background-color: var(--sklearn-color-fitted-level-0);\n",
       "}\n",
       "\n",
       "/* on hover */\n",
       "#sk-container-id-1 div.sk-estimator:hover {\n",
       "  /* unfitted */\n",
       "  background-color: var(--sklearn-color-unfitted-level-2);\n",
       "}\n",
       "\n",
       "#sk-container-id-1 div.sk-estimator.fitted:hover {\n",
       "  /* fitted */\n",
       "  background-color: var(--sklearn-color-fitted-level-2);\n",
       "}\n",
       "\n",
       "/* Specification for estimator info (e.g. \"i\" and \"?\") */\n",
       "\n",
       "/* Common style for \"i\" and \"?\" */\n",
       "\n",
       ".sk-estimator-doc-link,\n",
       "a:link.sk-estimator-doc-link,\n",
       "a:visited.sk-estimator-doc-link {\n",
       "  float: right;\n",
       "  font-size: smaller;\n",
       "  line-height: 1em;\n",
       "  font-family: monospace;\n",
       "  background-color: var(--sklearn-color-background);\n",
       "  border-radius: 1em;\n",
       "  height: 1em;\n",
       "  width: 1em;\n",
       "  text-decoration: none !important;\n",
       "  margin-left: 0.5em;\n",
       "  text-align: center;\n",
       "  /* unfitted */\n",
       "  border: var(--sklearn-color-unfitted-level-1) 1pt solid;\n",
       "  color: var(--sklearn-color-unfitted-level-1);\n",
       "}\n",
       "\n",
       ".sk-estimator-doc-link.fitted,\n",
       "a:link.sk-estimator-doc-link.fitted,\n",
       "a:visited.sk-estimator-doc-link.fitted {\n",
       "  /* fitted */\n",
       "  border: var(--sklearn-color-fitted-level-1) 1pt solid;\n",
       "  color: var(--sklearn-color-fitted-level-1);\n",
       "}\n",
       "\n",
       "/* On hover */\n",
       "div.sk-estimator:hover .sk-estimator-doc-link:hover,\n",
       ".sk-estimator-doc-link:hover,\n",
       "div.sk-label-container:hover .sk-estimator-doc-link:hover,\n",
       ".sk-estimator-doc-link:hover {\n",
       "  /* unfitted */\n",
       "  background-color: var(--sklearn-color-unfitted-level-3);\n",
       "  color: var(--sklearn-color-background);\n",
       "  text-decoration: none;\n",
       "}\n",
       "\n",
       "div.sk-estimator.fitted:hover .sk-estimator-doc-link.fitted:hover,\n",
       ".sk-estimator-doc-link.fitted:hover,\n",
       "div.sk-label-container:hover .sk-estimator-doc-link.fitted:hover,\n",
       ".sk-estimator-doc-link.fitted:hover {\n",
       "  /* fitted */\n",
       "  background-color: var(--sklearn-color-fitted-level-3);\n",
       "  color: var(--sklearn-color-background);\n",
       "  text-decoration: none;\n",
       "}\n",
       "\n",
       "/* Span, style for the box shown on hovering the info icon */\n",
       ".sk-estimator-doc-link span {\n",
       "  display: none;\n",
       "  z-index: 9999;\n",
       "  position: relative;\n",
       "  font-weight: normal;\n",
       "  right: .2ex;\n",
       "  padding: .5ex;\n",
       "  margin: .5ex;\n",
       "  width: min-content;\n",
       "  min-width: 20ex;\n",
       "  max-width: 50ex;\n",
       "  color: var(--sklearn-color-text);\n",
       "  box-shadow: 2pt 2pt 4pt #999;\n",
       "  /* unfitted */\n",
       "  background: var(--sklearn-color-unfitted-level-0);\n",
       "  border: .5pt solid var(--sklearn-color-unfitted-level-3);\n",
       "}\n",
       "\n",
       ".sk-estimator-doc-link.fitted span {\n",
       "  /* fitted */\n",
       "  background: var(--sklearn-color-fitted-level-0);\n",
       "  border: var(--sklearn-color-fitted-level-3);\n",
       "}\n",
       "\n",
       ".sk-estimator-doc-link:hover span {\n",
       "  display: block;\n",
       "}\n",
       "\n",
       "/* \"?\"-specific style due to the `<a>` HTML tag */\n",
       "\n",
       "#sk-container-id-1 a.estimator_doc_link {\n",
       "  float: right;\n",
       "  font-size: 1rem;\n",
       "  line-height: 1em;\n",
       "  font-family: monospace;\n",
       "  background-color: var(--sklearn-color-background);\n",
       "  border-radius: 1rem;\n",
       "  height: 1rem;\n",
       "  width: 1rem;\n",
       "  text-decoration: none;\n",
       "  /* unfitted */\n",
       "  color: var(--sklearn-color-unfitted-level-1);\n",
       "  border: var(--sklearn-color-unfitted-level-1) 1pt solid;\n",
       "}\n",
       "\n",
       "#sk-container-id-1 a.estimator_doc_link.fitted {\n",
       "  /* fitted */\n",
       "  border: var(--sklearn-color-fitted-level-1) 1pt solid;\n",
       "  color: var(--sklearn-color-fitted-level-1);\n",
       "}\n",
       "\n",
       "/* On hover */\n",
       "#sk-container-id-1 a.estimator_doc_link:hover {\n",
       "  /* unfitted */\n",
       "  background-color: var(--sklearn-color-unfitted-level-3);\n",
       "  color: var(--sklearn-color-background);\n",
       "  text-decoration: none;\n",
       "}\n",
       "\n",
       "#sk-container-id-1 a.estimator_doc_link.fitted:hover {\n",
       "  /* fitted */\n",
       "  background-color: var(--sklearn-color-fitted-level-3);\n",
       "}\n",
       "</style><div id=\"sk-container-id-1\" class=\"sk-top-container\"><div class=\"sk-text-repr-fallback\"><pre>GridSearchCV(cv=7,\n",
       "             estimator=Pipeline(steps=[(&#x27;polynomialfeatures&#x27;,\n",
       "                                        PolynomialFeatures()),\n",
       "                                       (&#x27;linearregression&#x27;,\n",
       "                                        LinearRegression())]),\n",
       "             n_jobs=1,\n",
       "             param_grid={&#x27;polynomialfeatures__degree&#x27;: array([0, 1, 2, 3, 4, 5, 6, 7, 8, 9])},\n",
       "             refit=&#x27;r2&#x27;,\n",
       "             scoring={&#x27;neg_mean_squared_error&#x27;: make_scorer(mean_squared_error, greater_is_better=False, response_method=&#x27;predict&#x27;),\n",
       "                      &#x27;r2&#x27;: make_scorer(r2_score, response_method=&#x27;predict&#x27;)})</pre><b>In a Jupyter environment, please rerun this cell to show the HTML representation or trust the notebook. <br />On GitHub, the HTML representation is unable to render, please try loading this page with nbviewer.org.</b></div><div class=\"sk-container\" hidden><div class=\"sk-item sk-dashed-wrapped\"><div class=\"sk-label-container\"><div class=\"sk-label fitted sk-toggleable\"><input class=\"sk-toggleable__control sk-hidden--visually\" id=\"sk-estimator-id-1\" type=\"checkbox\" ><label for=\"sk-estimator-id-1\" class=\"sk-toggleable__label fitted sk-toggleable__label-arrow\"><div><div>GridSearchCV</div></div><div><a class=\"sk-estimator-doc-link fitted\" rel=\"noreferrer\" target=\"_blank\" href=\"https://scikit-learn.org/1.6/modules/generated/sklearn.model_selection.GridSearchCV.html\">?<span>Documentation for GridSearchCV</span></a><span class=\"sk-estimator-doc-link fitted\">i<span>Fitted</span></span></div></label><div class=\"sk-toggleable__content fitted\"><pre>GridSearchCV(cv=7,\n",
       "             estimator=Pipeline(steps=[(&#x27;polynomialfeatures&#x27;,\n",
       "                                        PolynomialFeatures()),\n",
       "                                       (&#x27;linearregression&#x27;,\n",
       "                                        LinearRegression())]),\n",
       "             n_jobs=1,\n",
       "             param_grid={&#x27;polynomialfeatures__degree&#x27;: array([0, 1, 2, 3, 4, 5, 6, 7, 8, 9])},\n",
       "             refit=&#x27;r2&#x27;,\n",
       "             scoring={&#x27;neg_mean_squared_error&#x27;: make_scorer(mean_squared_error, greater_is_better=False, response_method=&#x27;predict&#x27;),\n",
       "                      &#x27;r2&#x27;: make_scorer(r2_score, response_method=&#x27;predict&#x27;)})</pre></div> </div></div><div class=\"sk-parallel\"><div class=\"sk-parallel-item\"><div class=\"sk-item\"><div class=\"sk-label-container\"><div class=\"sk-label fitted sk-toggleable\"><input class=\"sk-toggleable__control sk-hidden--visually\" id=\"sk-estimator-id-2\" type=\"checkbox\" ><label for=\"sk-estimator-id-2\" class=\"sk-toggleable__label fitted sk-toggleable__label-arrow\"><div><div>best_estimator_: Pipeline</div></div></label><div class=\"sk-toggleable__content fitted\"><pre>Pipeline(steps=[(&#x27;polynomialfeatures&#x27;, PolynomialFeatures(degree=np.int64(8))),\n",
       "                (&#x27;linearregression&#x27;, LinearRegression())])</pre></div> </div></div><div class=\"sk-serial\"><div class=\"sk-item\"><div class=\"sk-serial\"><div class=\"sk-item\"><div class=\"sk-estimator fitted sk-toggleable\"><input class=\"sk-toggleable__control sk-hidden--visually\" id=\"sk-estimator-id-3\" type=\"checkbox\" ><label for=\"sk-estimator-id-3\" class=\"sk-toggleable__label fitted sk-toggleable__label-arrow\"><div><div>PolynomialFeatures</div></div><div><a class=\"sk-estimator-doc-link fitted\" rel=\"noreferrer\" target=\"_blank\" href=\"https://scikit-learn.org/1.6/modules/generated/sklearn.preprocessing.PolynomialFeatures.html\">?<span>Documentation for PolynomialFeatures</span></a></div></label><div class=\"sk-toggleable__content fitted\"><pre>PolynomialFeatures(degree=np.int64(8))</pre></div> </div></div><div class=\"sk-item\"><div class=\"sk-estimator fitted sk-toggleable\"><input class=\"sk-toggleable__control sk-hidden--visually\" id=\"sk-estimator-id-4\" type=\"checkbox\" ><label for=\"sk-estimator-id-4\" class=\"sk-toggleable__label fitted sk-toggleable__label-arrow\"><div><div>LinearRegression</div></div><div><a class=\"sk-estimator-doc-link fitted\" rel=\"noreferrer\" target=\"_blank\" href=\"https://scikit-learn.org/1.6/modules/generated/sklearn.linear_model.LinearRegression.html\">?<span>Documentation for LinearRegression</span></a></div></label><div class=\"sk-toggleable__content fitted\"><pre>LinearRegression()</pre></div> </div></div></div></div></div></div></div></div></div></div></div>"
      ],
      "text/plain": [
       "GridSearchCV(cv=7,\n",
       "             estimator=Pipeline(steps=[('polynomialfeatures',\n",
       "                                        PolynomialFeatures()),\n",
       "                                       ('linearregression',\n",
       "                                        LinearRegression())]),\n",
       "             n_jobs=1,\n",
       "             param_grid={'polynomialfeatures__degree': array([0, 1, 2, 3, 4, 5, 6, 7, 8, 9])},\n",
       "             refit='r2',\n",
       "             scoring={'neg_mean_squared_error': make_scorer(mean_squared_error, greater_is_better=False, response_method='predict'),\n",
       "                      'r2': make_scorer(r2_score, response_method='predict')})"
      ]
     },
     "execution_count": 4,
     "metadata": {},
     "output_type": "execute_result"
    }
   ],
   "source": [
    "import pickle\n",
    "file_name = 'poly_search_results.pkl'\n",
    "with open(file_name, 'rb') as f:\n",
    "    rf_grid_search2 = pickle.load(f)\n",
    "\n",
    "    \n",
    "file_name = 'random_forest_search_results.pkl'\n",
    "with open(file_name, 'rb') as f:\n",
    "    grid_search_rf2 = pickle.load(f)\n",
    "\n",
    "rf_grid_search2"
   ]
  }
 ],
 "metadata": {
  "accelerator": "GPU",
  "colab": {
   "gpuType": "T4",
   "provenance": []
  },
  "kernelspec": {
   "display_name": "Python (base)",
   "language": "python",
   "name": "base"
  },
  "language_info": {
   "codemirror_mode": {
    "name": "ipython",
    "version": 3
   },
   "file_extension": ".py",
   "mimetype": "text/x-python",
   "name": "python",
   "nbconvert_exporter": "python",
   "pygments_lexer": "ipython3",
   "version": "3.13.5"
  }
 },
 "nbformat": 4,
 "nbformat_minor": 4
}
